{
 "cells": [
  {
   "cell_type": "code",
   "execution_count": 3,
   "id": "986c9722",
   "metadata": {},
   "outputs": [
    {
     "name": "stderr",
     "output_type": "stream",
     "text": [
      "WARNING:absl:Compiled the loaded model, but the compiled metrics have yet to be built. `model.compile_metrics` will be empty until you train or evaluate the model.\n"
     ]
    },
    {
     "name": "stdout",
     "output_type": "stream",
     "text": [
      "Model loaded successfully!\n"
     ]
    }
   ],
   "source": [
    "from tensorflow.keras.models import load_model\n",
    "\n",
    "# Load the saved model\n",
    "model = load_model(\"digit_recognition_model.h5\")\n",
    "print(\"Model loaded successfully!\")"
   ]
  },
  {
   "cell_type": "code",
   "execution_count": 4,
   "id": "99d6faa0",
   "metadata": {},
   "outputs": [
    {
     "name": "stderr",
     "output_type": "stream",
     "text": [
      "WARNING:absl:Compiled the loaded model, but the compiled metrics have yet to be built. `model.compile_metrics` will be empty until you train or evaluate the model.\n"
     ]
    },
    {
     "data": {
      "image/png": "[encoded data removed]",
      "text/plain": [
       "<Figure size 640x480 with 1 Axes>"
      ]
     },
     "metadata": {},
     "output_type": "display_data"
    },
    {
     "name": "stdout",
     "output_type": "stream",
     "text": [
      "Prediction Confidence Scores:\n",
      "Class 0: 0.0045\n",
      "Class 1: 0.0564\n",
      "Class 2: 0.0152\n",
      "Class 3: 0.7196\n",
      "Class 4: 0.0342\n",
      "Class 5: 0.0875\n",
      "Class 6: 0.0060\n",
      "Class 7: 0.0074\n",
      "Class 8: 0.0052\n",
      "Class 9: 0.0641\n"
     ]
    }
   ],
   "source": [
    "from tensorflow.keras.preprocessing import image\n",
    "import numpy as np\n",
    "import matplotlib.pyplot as plt\n",
    "from tensorflow.keras.models import load_model\n",
    "\n",
    "# Load the saved model\n",
    "model = load_model(\"digit_recognition_model.h5\")\n",
    "\n",
    "# Function to predict a custom image\n",
    "def predict_custom_image(model, img_path):\n",
    "    img = image.load_img(img_path, color_mode=\"grayscale\", target_size=(28, 28))\n",
    "    img_array = image.img_to_array(img) / 255.0\n",
    "    img_array = np.expand_dims(img_array, axis=0)\n",
    "\n",
    "    pred = model.predict(img_array, verbose=0)\n",
    "    predicted_label = np.argmax(pred)\n",
    "\n",
    "    plt.imshow(img_array.squeeze(), cmap='gray')\n",
    "    plt.title(f\"Predicted: {predicted_label}\")\n",
    "    plt.axis('off')\n",
    "    plt.show()\n",
    "\n",
    "    print(\"Prediction Confidence Scores:\")\n",
    "    for i, score in enumerate(pred[0]):\n",
    "        print(f\"Class {i}: {score:.4f}\")\n",
    "\n",
    "# Test an image\n",
    "img_path = \"number-150793_640.jpeg\"  # Replace with your file path\n",
    "predict_custom_image(model, img_path)\n"
   ]
  },
  {
   "cell_type": "code",
   "execution_count": null,
   "id": "5aa7abc3",
   "metadata": {},
   "outputs": [],
   "source": []
  }
 ],
 "metadata": {
  "kernelspec": {
   "display_name": "Python 3 (ipykernel)",
   "language": "python",
   "name": "python3"
  },
  "language_info": {
   "codemirror_mode": {
    "name": "ipython",
    "version": 3
   },
   "file_extension": ".py",
   "mimetype": "text/x-python",
   "name": "python",
   "nbconvert_exporter": "python",
   "pygments_lexer": "ipython3",
   "version": "3.12.3"
  }
 },
 "nbformat": 4,
 "nbformat_minor": 5
}
